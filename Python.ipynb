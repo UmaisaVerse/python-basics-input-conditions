{
  "nbformat": 4,
  "nbformat_minor": 0,
  "metadata": {
    "colab": {
      "provenance": []
    },
    "kernelspec": {
      "name": "python3",
      "display_name": "Python 3"
    },
    "language_info": {
      "name": "python"
    }
  },
  "cells": [
    {
      "cell_type": "markdown",
      "source": [
        "**Question 1:** **Printing** a Message Write a Python program that prints the following message:\n",
        "\n",
        "* `Hello! Welcome to the Data Science BootCamp`\n"
      ],
      "metadata": {
        "id": "tkxKagnXk_nn"
      }
    },
    {
      "cell_type": "code",
      "source": [
        "print(\"Hello! Welcome to the Data Science BootCamp\")"
      ],
      "metadata": {
        "id": "cZpbL8R4lZER",
        "colab": {
          "base_uri": "https://localhost:8080/"
        },
        "outputId": "0a3789fe-182d-41c0-a2a1-16205da6752b"
      },
      "execution_count": 1,
      "outputs": [
        {
          "output_type": "stream",
          "name": "stdout",
          "text": [
            "Hello! Welcome to the Data Science BootCamp\n"
          ]
        }
      ]
    },
    {
      "cell_type": "markdown",
      "source": [
        "**Question 2**: User Input Write a program that asks the user for their name and greets them:\n",
        "\n",
        "**Example:**\n",
        "\n",
        "\n",
        "\n",
        "```\n",
        "Enter your name: DataCrumbs\n",
        "Hello, DataCrumbs! Nice to meet you.\n",
        "```\n",
        "\n",
        "\n"
      ],
      "metadata": {
        "id": "l6rezUK7lZRY"
      }
    },
    {
      "cell_type": "code",
      "source": [
        "x = input(\"Enter your name: \")\n",
        "print(f\"Hello, {x}! Nice to meet you.\")"
      ],
      "metadata": {
        "id": "X2e8Hpx4pwC5",
        "colab": {
          "base_uri": "https://localhost:8080/"
        },
        "outputId": "27ae2b89-7cf1-435e-d1e8-8c2959907301"
      },
      "execution_count": 4,
      "outputs": [
        {
          "output_type": "stream",
          "name": "stdout",
          "text": [
            "Enter your name: Umaisa\n",
            "Hello, Umaisa! Nice to meet you.\n"
          ]
        }
      ]
    },
    {
      "cell_type": "markdown",
      "source": [
        "**Question 3: Simple Decision-Making** Write a program that asks the user to enter their age and prints:\n",
        "* \"You are a teenager!\" if the age is between 13 and 19.\n",
        "* \"You are an adult!\" if the age is 20 or older.\n",
        "* \"You are a child!\" otherwise."
      ],
      "metadata": {
        "id": "QMcth5hFlvuS"
      }
    },
    {
      "cell_type": "code",
      "source": [
        "age = int(input(\"Please enter your age\"))\n",
        "\n",
        "if 13 <= age <= 19:\n",
        "  print(\"You are a teenager!\")\n",
        "elif age >= 20:\n",
        "    print(\"You are an adult!\")\n",
        "else:\n",
        "    print(\" You are a child!\")"
      ],
      "metadata": {
        "id": "gBNPw4KcmC4p",
        "colab": {
          "base_uri": "https://localhost:8080/"
        },
        "outputId": "b735a50b-a0dd-4fbe-9190-e687ad073f74"
      },
      "execution_count": 8,
      "outputs": [
        {
          "output_type": "stream",
          "name": "stdout",
          "text": [
            "Please enter your age25\n",
            "You are an adult!\n"
          ]
        }
      ]
    },
    {
      "cell_type": "markdown",
      "source": [
        "**Question 4: Simple Grading System** Write a program that asks the user to enter their score (out of 100) and prints their grade:\n",
        "* If the score is 90 or above: \"Grade: A\"\n",
        "* If the score is 80 to 89: \"Grade: B\"\n",
        "* If the score is 70 to 79: \"Grade: C\"\n",
        "* If the score is 60 to 69: \"Grade: D\"\n",
        "* Below 60: \"Grade: F\""
      ],
      "metadata": {
        "id": "1HEOz-wjlvva"
      }
    },
    {
      "cell_type": "code",
      "source": [
        "score = int(input(\"Please enter your score: \"))\n",
        "\n",
        "if score >= 90:\n",
        "    print(\"Grade: A\")\n",
        "elif 80 <= score <= 89:\n",
        "    print(\"Grade: B\")\n",
        "elif 70 <= score <= 79:\n",
        "    print(\"Grade: C\")\n",
        "elif 60 <= score <= 69:\n",
        "    print(\"Grade: D\")\n",
        "else:\n",
        "    print(\"Grade: F\")"
      ],
      "metadata": {
        "id": "3rb0umK6lgYv",
        "colab": {
          "base_uri": "https://localhost:8080/"
        },
        "outputId": "4c756dba-2110-4a03-fd8a-a38eae16593c"
      },
      "execution_count": 15,
      "outputs": [
        {
          "output_type": "stream",
          "name": "stdout",
          "text": [
            "Please enter your score: 9\n",
            "Grade: F\n"
          ]
        }
      ]
    },
    {
      "cell_type": "markdown",
      "source": [
        "**Submission Instructions**\n",
        "\n",
        "1. **File Name**: Save your file as `YOURNAME_01.py` (replace `YOURNAME` with your name).  \n",
        "2. **Test**: Run and test each question to ensure correctness.  \n",
        "3. **Submit**: Upload the file to Google Classroom."
      ],
      "metadata": {
        "id": "CetRu5ZvmtQ5"
      }
    }
  ]
}